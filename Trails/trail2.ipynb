{
 "cells": [
  {
   "cell_type": "markdown",
   "metadata": {},
   "source": [
    "Accessing and training model without overfitting with refined datasets\n"
   ]
  },
  {
   "cell_type": "code",
   "execution_count": 1,
   "metadata": {},
   "outputs": [
    {
     "data": {
      "text/plain": [
       "'c:\\\\Users\\\\Public\\\\MACHINE LEARNING\\\\pred_manf_oprtns\\\\Trails'"
      ]
     },
     "execution_count": 1,
     "metadata": {},
     "output_type": "execute_result"
    }
   ],
   "source": [
    "import os\n",
    "%pwd"
   ]
  },
  {
   "cell_type": "code",
   "execution_count": 2,
   "metadata": {},
   "outputs": [],
   "source": [
    "os.chdir('../')"
   ]
  },
  {
   "cell_type": "code",
   "execution_count": 4,
   "metadata": {},
   "outputs": [
    {
     "name": "stderr",
     "output_type": "stream",
     "text": [
      "<>:2: SyntaxWarning: invalid escape sequence '\\i'\n",
      "<>:2: SyntaxWarning: invalid escape sequence '\\i'\n",
      "C:\\Users\\Admin\\AppData\\Local\\Temp\\ipykernel_20012\\2753909551.py:2: SyntaxWarning: invalid escape sequence '\\i'\n",
      "  data_set = pandas.read_csv('Dataset\\integer_sample_ds.csv')\n"
     ]
    }
   ],
   "source": [
    "import pandas\n",
    "data_set = pandas.read_csv('Dataset\\integer_sample_ds.csv')"
   ]
  },
  {
   "cell_type": "code",
   "execution_count": 5,
   "metadata": {},
   "outputs": [
    {
     "data": {
      "text/html": [
       "<div>\n",
       "<style scoped>\n",
       "    .dataframe tbody tr th:only-of-type {\n",
       "        vertical-align: middle;\n",
       "    }\n",
       "\n",
       "    .dataframe tbody tr th {\n",
       "        vertical-align: top;\n",
       "    }\n",
       "\n",
       "    .dataframe thead th {\n",
       "        text-align: right;\n",
       "    }\n",
       "</style>\n",
       "<table border=\"1\" class=\"dataframe\">\n",
       "  <thead>\n",
       "    <tr style=\"text-align: right;\">\n",
       "      <th></th>\n",
       "      <th>Hydraulic_Pressurebar</th>\n",
       "      <th>Coolant_Pressurebar</th>\n",
       "      <th>Air_System_Pressurebar</th>\n",
       "      <th>Coolant_Temperature</th>\n",
       "      <th>Hydraulic_Oil_Temperature</th>\n",
       "      <th>Spindle_Bearing_Temperature</th>\n",
       "      <th>Spindle_Vibration</th>\n",
       "      <th>Tool_Vibration</th>\n",
       "      <th>Spindle_SpeedRPM</th>\n",
       "      <th>Voltagevolts</th>\n",
       "      <th>TorqueNm</th>\n",
       "      <th>CuttingkN</th>\n",
       "      <th>Downtime</th>\n",
       "    </tr>\n",
       "  </thead>\n",
       "  <tbody>\n",
       "    <tr>\n",
       "      <th>0</th>\n",
       "      <td>71.04</td>\n",
       "      <td>6.933725</td>\n",
       "      <td>6.284965</td>\n",
       "      <td>25.6</td>\n",
       "      <td>46.0</td>\n",
       "      <td>33.4</td>\n",
       "      <td>1.291</td>\n",
       "      <td>26.492</td>\n",
       "      <td>25892.0</td>\n",
       "      <td>335.0</td>\n",
       "      <td>24.055326</td>\n",
       "      <td>3.58</td>\n",
       "      <td>1</td>\n",
       "    </tr>\n",
       "    <tr>\n",
       "      <th>1</th>\n",
       "      <td>125.33</td>\n",
       "      <td>4.936892</td>\n",
       "      <td>6.196733</td>\n",
       "      <td>35.3</td>\n",
       "      <td>47.4</td>\n",
       "      <td>34.6</td>\n",
       "      <td>1.382</td>\n",
       "      <td>25.274</td>\n",
       "      <td>19856.0</td>\n",
       "      <td>368.0</td>\n",
       "      <td>14.202890</td>\n",
       "      <td>2.68</td>\n",
       "      <td>1</td>\n",
       "    </tr>\n",
       "    <tr>\n",
       "      <th>2</th>\n",
       "      <td>71.12</td>\n",
       "      <td>6.839413</td>\n",
       "      <td>6.655448</td>\n",
       "      <td>13.1</td>\n",
       "      <td>40.7</td>\n",
       "      <td>33.0</td>\n",
       "      <td>1.319</td>\n",
       "      <td>30.608</td>\n",
       "      <td>19851.0</td>\n",
       "      <td>325.0</td>\n",
       "      <td>24.049267</td>\n",
       "      <td>3.55</td>\n",
       "      <td>1</td>\n",
       "    </tr>\n",
       "  </tbody>\n",
       "</table>\n",
       "</div>"
      ],
      "text/plain": [
       "   Hydraulic_Pressurebar  Coolant_Pressurebar  Air_System_Pressurebar  \\\n",
       "0                  71.04             6.933725                6.284965   \n",
       "1                 125.33             4.936892                6.196733   \n",
       "2                  71.12             6.839413                6.655448   \n",
       "\n",
       "   Coolant_Temperature  Hydraulic_Oil_Temperature  \\\n",
       "0                 25.6                       46.0   \n",
       "1                 35.3                       47.4   \n",
       "2                 13.1                       40.7   \n",
       "\n",
       "   Spindle_Bearing_Temperature  Spindle_Vibration  Tool_Vibration  \\\n",
       "0                         33.4              1.291          26.492   \n",
       "1                         34.6              1.382          25.274   \n",
       "2                         33.0              1.319          30.608   \n",
       "\n",
       "   Spindle_SpeedRPM  Voltagevolts   TorqueNm  CuttingkN  Downtime  \n",
       "0           25892.0         335.0  24.055326       3.58         1  \n",
       "1           19856.0         368.0  14.202890       2.68         1  \n",
       "2           19851.0         325.0  24.049267       3.55         1  "
      ]
     },
     "execution_count": 5,
     "metadata": {},
     "output_type": "execute_result"
    }
   ],
   "source": [
    "data_set.head(3)\n",
    "\n",
    "\n"
   ]
  },
  {
   "cell_type": "code",
   "execution_count": 33,
   "metadata": {},
   "outputs": [
    {
     "data": {
      "text/plain": [
       "Hydraulic_Pressurebar          0\n",
       "Coolant_Pressurebar            0\n",
       "Air_System_Pressurebar         0\n",
       "Coolant_Temperature            0\n",
       "Hydraulic_Oil_Temperature      0\n",
       "Spindle_Bearing_Temperature    0\n",
       "Spindle_Vibration              0\n",
       "Tool_Vibration                 0\n",
       "Spindle_SpeedRPM               0\n",
       "Voltagevolts                   0\n",
       "TorqueNm                       0\n",
       "CuttingkN                      0\n",
       "Downtime                       0\n",
       "dtype: int64"
      ]
     },
     "execution_count": 33,
     "metadata": {},
     "output_type": "execute_result"
    }
   ],
   "source": [
    "data_set.isnull().sum() "
   ]
  },
  {
   "cell_type": "code",
   "execution_count": 32,
   "metadata": {},
   "outputs": [],
   "source": [
    "data_set.fillna(data_set.mean(), inplace=True)"
   ]
  },
  {
   "cell_type": "code",
   "execution_count": 34,
   "metadata": {},
   "outputs": [],
   "source": [
    "from sklearn.model_selection import train_test_split\n",
    "from sklearn.preprocessing import StandardScaler\n"
   ]
  },
  {
   "cell_type": "code",
   "execution_count": 35,
   "metadata": {},
   "outputs": [
    {
     "data": {
      "text/html": [
       "<div>\n",
       "<style scoped>\n",
       "    .dataframe tbody tr th:only-of-type {\n",
       "        vertical-align: middle;\n",
       "    }\n",
       "\n",
       "    .dataframe tbody tr th {\n",
       "        vertical-align: top;\n",
       "    }\n",
       "\n",
       "    .dataframe thead th {\n",
       "        text-align: right;\n",
       "    }\n",
       "</style>\n",
       "<table border=\"1\" class=\"dataframe\">\n",
       "  <thead>\n",
       "    <tr style=\"text-align: right;\">\n",
       "      <th></th>\n",
       "      <th>Hydraulic_Pressurebar</th>\n",
       "      <th>Coolant_Pressurebar</th>\n",
       "      <th>Air_System_Pressurebar</th>\n",
       "      <th>Coolant_Temperature</th>\n",
       "      <th>Hydraulic_Oil_Temperature</th>\n",
       "      <th>Spindle_Bearing_Temperature</th>\n",
       "      <th>Spindle_Vibration</th>\n",
       "      <th>Tool_Vibration</th>\n",
       "      <th>Spindle_SpeedRPM</th>\n",
       "      <th>Voltagevolts</th>\n",
       "      <th>TorqueNm</th>\n",
       "      <th>CuttingkN</th>\n",
       "    </tr>\n",
       "  </thead>\n",
       "  <tbody>\n",
       "    <tr>\n",
       "      <th>0</th>\n",
       "      <td>-1.004847</td>\n",
       "      <td>1.999947</td>\n",
       "      <td>-0.528104</td>\n",
       "      <td>0.825122</td>\n",
       "      <td>-0.430880</td>\n",
       "      <td>-0.442615</td>\n",
       "      <td>0.823406</td>\n",
       "      <td>0.168184</td>\n",
       "      <td>1.460053</td>\n",
       "      <td>-0.308895</td>\n",
       "      <td>-0.193020</td>\n",
       "      <td>1.295189</td>\n",
       "    </tr>\n",
       "    <tr>\n",
       "      <th>1</th>\n",
       "      <td>0.791491</td>\n",
       "      <td>-0.010235</td>\n",
       "      <td>-0.745525</td>\n",
       "      <td>1.961990</td>\n",
       "      <td>-0.058127</td>\n",
       "      <td>-0.123364</td>\n",
       "      <td>1.089430</td>\n",
       "      <td>-0.021486</td>\n",
       "      <td>-0.108855</td>\n",
       "      <td>0.419382</td>\n",
       "      <td>-1.805136</td>\n",
       "      <td>-0.166560</td>\n",
       "    </tr>\n",
       "    <tr>\n",
       "      <th>2</th>\n",
       "      <td>-1.002200</td>\n",
       "      <td>1.905004</td>\n",
       "      <td>0.384844</td>\n",
       "      <td>-0.639915</td>\n",
       "      <td>-1.842016</td>\n",
       "      <td>-0.549032</td>\n",
       "      <td>0.905259</td>\n",
       "      <td>0.809139</td>\n",
       "      <td>-0.110154</td>\n",
       "      <td>-0.529585</td>\n",
       "      <td>-0.194012</td>\n",
       "      <td>1.246464</td>\n",
       "    </tr>\n",
       "  </tbody>\n",
       "</table>\n",
       "</div>"
      ],
      "text/plain": [
       "   Hydraulic_Pressurebar  Coolant_Pressurebar  Air_System_Pressurebar  \\\n",
       "0              -1.004847             1.999947               -0.528104   \n",
       "1               0.791491            -0.010235               -0.745525   \n",
       "2              -1.002200             1.905004                0.384844   \n",
       "\n",
       "   Coolant_Temperature  Hydraulic_Oil_Temperature  \\\n",
       "0             0.825122                  -0.430880   \n",
       "1             1.961990                  -0.058127   \n",
       "2            -0.639915                  -1.842016   \n",
       "\n",
       "   Spindle_Bearing_Temperature  Spindle_Vibration  Tool_Vibration  \\\n",
       "0                    -0.442615           0.823406        0.168184   \n",
       "1                    -0.123364           1.089430       -0.021486   \n",
       "2                    -0.549032           0.905259        0.809139   \n",
       "\n",
       "   Spindle_SpeedRPM  Voltagevolts  TorqueNm  CuttingkN  \n",
       "0          1.460053     -0.308895 -0.193020   1.295189  \n",
       "1         -0.108855      0.419382 -1.805136  -0.166560  \n",
       "2         -0.110154     -0.529585 -0.194012   1.246464  "
      ]
     },
     "execution_count": 35,
     "metadata": {},
     "output_type": "execute_result"
    }
   ],
   "source": [
    "import pandas as pd\n",
    "from sklearn.preprocessing import StandardScaler\n",
    "\n",
    "scaler = StandardScaler()\n",
    "X = data_set.iloc[:, :-1]\n",
    "X_scaled = scaler.fit_transform(X)\n",
    "\n",
    "# Converting the scaled data into a DataFrame for visualization\n",
    "X_scaled_df = pd.DataFrame(X_scaled, columns=X.columns)\n",
    "X_scaled_df.head(3)\n"
   ]
  },
  {
   "cell_type": "code",
   "execution_count": 36,
   "metadata": {},
   "outputs": [],
   "source": [
    "y = data_set.iloc[:, -1]"
   ]
  },
  {
   "cell_type": "code",
   "execution_count": 37,
   "metadata": {},
   "outputs": [],
   "source": [
    "x_train, x_test, y_train, y_test = train_test_split(X_scaled_df, y, test_size=0.2, random_state=42)"
   ]
  },
  {
   "cell_type": "code",
   "execution_count": 26,
   "metadata": {},
   "outputs": [],
   "source": [
    "# x_train.shape, x_test.shape, y_train.shape, y_test.shape"
   ]
  },
  {
   "cell_type": "code",
   "execution_count": 38,
   "metadata": {},
   "outputs": [],
   "source": [
    "from sklearn.model_selection import train_test_split, GridSearchCV, cross_val_score, StratifiedKFold\n",
    "from sklearn.metrics import f1_score\n",
    "from sklearn.tree import DecisionTreeClassifier\n",
    "from sklearn.svm import SVC\n",
    "from sklearn.ensemble import RandomForestClassifier, AdaBoostClassifier,GradientBoostingClassifier\n",
    "from xgboost import XGBClassifier\n",
    "from sklearn.metrics import accuracy_score, classification_report, confusion_matrix"
   ]
  },
  {
   "cell_type": "code",
   "execution_count": 39,
   "metadata": {},
   "outputs": [
    {
     "data": {
      "text/plain": [
       "((2500, 12), (2500,))"
      ]
     },
     "execution_count": 39,
     "metadata": {},
     "output_type": "execute_result"
    }
   ],
   "source": [
    "X_scaled.shape, y.shape"
   ]
  },
  {
   "cell_type": "code",
   "execution_count": 45,
   "metadata": {},
   "outputs": [],
   "source": [
    "decision_tree = DecisionTreeClassifier()\n",
    "\n",
    "svm =  SVC(probability=True, random_state=42)\n",
    "\n",
    "random_forest = RandomForestClassifier()\n",
    "gradient_boosting = GradientBoostingClassifier()\n",
    "adaboost = AdaBoostClassifier()\n",
    "xgb_classifier = XGBClassifier(use_label_encoder=False, eval_metric=\"logloss\", random_state=42)\n",
    "\n",
    "models = [decision_tree, svm, random_forest, gradient_boosting, adaboost, xgb_classifier]"
   ]
  },
  {
   "cell_type": "code",
   "execution_count": 46,
   "metadata": {},
   "outputs": [
    {
     "name": "stdout",
     "output_type": "stream",
     "text": [
      "Model: DecisionTreeClassifier()\n",
      "Accuracy: 0.97\n",
      "F1 Score: 0.96\n",
      "              precision    recall  f1-score   support\n",
      "\n",
      "           0       0.98      0.96      0.97       269\n",
      "           1       0.95      0.97      0.96       231\n",
      "\n",
      "    accuracy                           0.97       500\n",
      "   macro avg       0.97      0.97      0.97       500\n",
      "weighted avg       0.97      0.97      0.97       500\n",
      "\n",
      "----------------------------------------\n",
      "Model: SVC(probability=True, random_state=42)\n",
      "Accuracy: 0.86\n",
      "F1 Score: 0.85\n",
      "              precision    recall  f1-score   support\n",
      "\n",
      "           0       0.87      0.87      0.87       269\n",
      "           1       0.85      0.85      0.85       231\n",
      "\n",
      "    accuracy                           0.86       500\n",
      "   macro avg       0.86      0.86      0.86       500\n",
      "weighted avg       0.86      0.86      0.86       500\n",
      "\n",
      "----------------------------------------\n",
      "Model: RandomForestClassifier()\n",
      "Accuracy: 0.99\n",
      "F1 Score: 0.99\n",
      "              precision    recall  f1-score   support\n",
      "\n",
      "           0       0.99      0.99      0.99       269\n",
      "           1       0.99      0.99      0.99       231\n",
      "\n",
      "    accuracy                           0.99       500\n",
      "   macro avg       0.99      0.99      0.99       500\n",
      "weighted avg       0.99      0.99      0.99       500\n",
      "\n",
      "----------------------------------------\n",
      "Model: GradientBoostingClassifier()\n",
      "Accuracy: 0.99\n",
      "F1 Score: 0.99\n",
      "              precision    recall  f1-score   support\n",
      "\n",
      "           0       1.00      0.99      0.99       269\n",
      "           1       0.99      1.00      0.99       231\n",
      "\n",
      "    accuracy                           0.99       500\n",
      "   macro avg       0.99      0.99      0.99       500\n",
      "weighted avg       0.99      0.99      0.99       500\n",
      "\n",
      "----------------------------------------\n",
      "Model: AdaBoostClassifier()\n",
      "Accuracy: 0.99\n",
      "F1 Score: 0.98\n",
      "              precision    recall  f1-score   support\n",
      "\n",
      "           0       0.99      0.99      0.99       269\n",
      "           1       0.98      0.99      0.98       231\n",
      "\n",
      "    accuracy                           0.99       500\n",
      "   macro avg       0.99      0.99      0.99       500\n",
      "weighted avg       0.99      0.99      0.99       500\n",
      "\n",
      "----------------------------------------\n"
     ]
    },
    {
     "name": "stderr",
     "output_type": "stream",
     "text": [
      "c:\\Users\\Public\\MACHINE LEARNING\\pred_manf_oprtns\\py_env\\Lib\\site-packages\\xgboost\\core.py:158: UserWarning: [17:21:18] WARNING: C:\\buildkite-agent\\builds\\buildkite-windows-cpu-autoscaling-group-i-0c55ff5f71b100e98-1\\xgboost\\xgboost-ci-windows\\src\\learner.cc:740: \n",
      "Parameters: { \"use_label_encoder\" } are not used.\n",
      "\n",
      "  warnings.warn(smsg, UserWarning)\n"
     ]
    },
    {
     "name": "stdout",
     "output_type": "stream",
     "text": [
      "Model: XGBClassifier(base_score=None, booster=None, callbacks=None,\n",
      "              colsample_bylevel=None, colsample_bynode=None,\n",
      "              colsample_bytree=None, device=None, early_stopping_rounds=None,\n",
      "              enable_categorical=False, eval_metric='logloss',\n",
      "              feature_types=None, gamma=None, grow_policy=None,\n",
      "              importance_type=None, interaction_constraints=None,\n",
      "              learning_rate=None, max_bin=None, max_cat_threshold=None,\n",
      "              max_cat_to_onehot=None, max_delta_step=None, max_depth=None,\n",
      "              max_leaves=None, min_child_weight=None, missing=nan,\n",
      "              monotone_constraints=None, multi_strategy=None, n_estimators=None,\n",
      "              n_jobs=None, num_parallel_tree=None, random_state=42, ...)\n",
      "Accuracy: 0.99\n",
      "F1 Score: 0.99\n",
      "              precision    recall  f1-score   support\n",
      "\n",
      "           0       0.99      0.99      0.99       269\n",
      "           1       0.99      0.99      0.99       231\n",
      "\n",
      "    accuracy                           0.99       500\n",
      "   macro avg       0.99      0.99      0.99       500\n",
      "weighted avg       0.99      0.99      0.99       500\n",
      "\n",
      "----------------------------------------\n",
      "Best Model: GradientBoostingClassifier() with F1 Score: 0.99\n"
     ]
    }
   ],
   "source": [
    "results = []\n",
    "for model in models:\n",
    "    # Train the model\n",
    "    model.fit(x_train, y_train)\n",
    "    \n",
    "    # Predict on test data\n",
    "    y_pred = model.predict(x_test)\n",
    "    \n",
    "    # Evaluate metrics\n",
    "    accuracy = accuracy_score(y_test, y_pred)\n",
    "    f1 = f1_score(y_test, y_pred)\n",
    "    results.append({\"Model\": model, \"Accuracy\": accuracy, \"F1 Score\": f1})\n",
    "    \n",
    "    # Print performance\n",
    "    print(f\"Model: {model}\")\n",
    "    print(f\"Accuracy: {accuracy:.2f}\")\n",
    "    print(f\"F1 Score: {f1:.2f}\")\n",
    "    print(classification_report(y_test, y_pred))\n",
    "    print(\"-\" * 40)\n",
    "\n",
    "# 8. Select Best Model\n",
    "best_model = max(results, key=lambda x: x[\"F1 Score\"])\n",
    "print(f\"Best Model: {best_model['Model']} with F1 Score: {best_model['F1 Score']:.2f}\")"
   ]
  },
  {
   "cell_type": "code",
   "execution_count": 47,
   "metadata": {},
   "outputs": [
    {
     "name": "stdout",
     "output_type": "stream",
     "text": [
      "Fitting 5 folds for each of 486 candidates, totalling 2430 fits\n",
      "Best Parameters: {'learning_rate': 0.1, 'max_depth': 5, 'min_samples_leaf': 3, 'min_samples_split': 10, 'n_estimators': 300, 'subsample': 0.8}\n",
      "Test Accuracy: 1.00\n",
      "Test F1 Score: 1.00\n",
      "              precision    recall  f1-score   support\n",
      "\n",
      "           0       1.00      1.00      1.00       269\n",
      "           1       1.00      1.00      1.00       231\n",
      "\n",
      "    accuracy                           1.00       500\n",
      "   macro avg       1.00      1.00      1.00       500\n",
      "weighted avg       1.00      1.00      1.00       500\n",
      "\n"
     ]
    }
   ],
   "source": [
    "gb_model = GradientBoostingClassifier(random_state=42)\n",
    "\n",
    "# Define hyperparameter grid for tuning\n",
    "param_grid = {\n",
    "    \"n_estimators\": [100, 200, 300],      # Number of trees\n",
    "    \"learning_rate\": [0.01, 0.05, 0.1],  # Step size shrinkage\n",
    "    \"max_depth\": [3, 5, 7],              # Tree depth\n",
    "    \"min_samples_split\": [2, 5, 10],     # Minimum samples to split\n",
    "    \"min_samples_leaf\": [1, 3, 5],       # Minimum samples in leaf nodes\n",
    "    \"subsample\": [0.8, 1.0],             # Fraction of samples used for fitting each tree\n",
    "}\n",
    "\n",
    "# Perform GridSearchCV for hyperparameter tuning\n",
    "grid_search = GridSearchCV(\n",
    "    estimator=gb_model,\n",
    "    param_grid=param_grid,\n",
    "    scoring=\"f1\",\n",
    "    cv=5,  # 5-fold cross-validation\n",
    "    n_jobs=-1,\n",
    "    verbose=1\n",
    ")\n",
    "\n",
    "grid_search.fit(x_train, y_train)\n",
    "\n",
    "# Best parameters and model\n",
    "best_gb_model = grid_search.best_estimator_\n",
    "print(\"Best Parameters:\", grid_search.best_params_)\n",
    "\n",
    "# Evaluate on test data\n",
    "y_pred = best_gb_model.predict(x_test)\n",
    "f1 = f1_score(y_test, y_pred)\n",
    "accuracy = accuracy_score(y_test, y_pred)\n",
    "\n",
    "print(f\"Test Accuracy: {accuracy:.2f}\")\n",
    "print(f\"Test F1 Score: {f1:.2f}\")\n",
    "print(classification_report(y_test, y_pred))"
   ]
  },
  {
   "cell_type": "markdown",
   "metadata": {},
   "source": [
    "Dataset\n",
    "the dataset i have used is from kaggle link further i removed two 3 colums of categorical comumns and converted target feature Donwtime categorical to numneric to produce refined dat set for keeping it all simple\n",
    "\n",
    "How to use model\n",
    "all endpoints are working fine as expected to test run main.py inside app folder the api are built with fast_api\n",
    "the endponit are check in postman and also fastapi docs but only works for numnerical datset pleased use our dataset to get resulsys\n",
    "for postman :\n",
    "http://localhost/\n",
    "http://127.0.0.1:8000/ \n",
    "method 'GET'\n",
    "expected output :\n",
    "{\n",
    "    \"message\": \"Welcome to the API\",\n",
    "    \"endpoints\": [\n",
    "        {\n",
    "            \"path\": \"/upload\",\n",
    "            \"description\": \"Upload a CSV file to train the model\"\n",
    "        },\n",
    "        {\n",
    "            \"path\": \"/train\",\n",
    "            \"description\": \"Train the model using the uploaded dataset\"\n",
    "        },\n",
    "        {\n",
    "            \"path\": \"/predict\",\n",
    "            \"description\": \"Make predictions using the trained model\"\n",
    "        }\n",
    "    ]\n",
    "}\n",
    "\n",
    "2. UPLOAD optionm\n",
    "endpoint :\n",
    "http://127.0.0.1:8000/upload\n",
    "http://Localhost/upload\n",
    "\n",
    "method : 'POST'\n",
    "\n",
    "for input navigate to body and click on form data \n",
    "go to key value pair and select key to file option and select file and put file (name) in key columns and send request \n",
    "\n",
    "expected output :\n",
    "{\n",
    "    \"message\": \"File uploaded successfully\"\n",
    "}\n",
    "\n",
    "3. Train option\n",
    "endpoint : \n",
    "http://localhost/train\n",
    "http://127.0.0.1:8000/train\n",
    "\n",
    "method : \"POST\"\n",
    "\n",
    "expected output :\n",
    "{\n",
    "    \"message\": \"Model trained successfully!\",\n",
    "    \"f1_score\": 0.996,\n",
    "    \"accuracy\": 0.996\n",
    "}\n",
    "\n",
    "4. Predict \n",
    "Endpoint:\n",
    "http://localhost/predict\n",
    "http://127.0.0.1:8000/predict\n",
    "\n",
    "metho : 'POST'\n",
    "\n",
    "procedure :\n",
    " navigate to Body and click on raw option in futher JSON formate \n",
    " put values to predicted\n",
    "\n",
    " smaple set :\n",
    " {\n",
    "  \"Hydraulic_Pressurebar\": 70,\n",
    "  \"Coolant_Pressurebar\": 6,\n",
    "  \"Air_System_Pressurebar\": 7.54,\n",
    "  \"Coolant_Temperature\": 30,\n",
    "  \"Hydraulic_Oil_Temperature\": 80,\n",
    "  \"Spindle_Bearing_Temperature\": 30,\n",
    "  \"Spindle_Vibration\": 1.3,\n",
    "  \"Tool_Vibration\": 53,\n",
    "  \"Spindle_SpeedRPM\": 1000,\n",
    "  \"Voltagevolts\": 330,\n",
    "  \"TorqueNm\": 27,\n",
    "  \"CuttingkN\": 3.50\n",
    "}\n",
    "\n",
    "Expected Output \n",
    "{\n",
    "    \"prediction\": \"Yes\",\n",
    "    \"confidence\": 0.99\n",
    "}\n",
    "problems: The model may sightly overfiting because used data set is less\n",
    "and may missing of some more features\n",
    "\n",
    "imporvmnts:\n",
    " further main.py can be improved to dynamicaly to handle any uploded dataset regarding to any daTTYPE "
   ]
  },
  {
   "cell_type": "markdown",
   "metadata": {},
   "source": []
  },
  {
   "cell_type": "code",
   "execution_count": null,
   "metadata": {},
   "outputs": [],
   "source": []
  }
 ],
 "metadata": {
  "kernelspec": {
   "display_name": "py_env",
   "language": "python",
   "name": "python3"
  },
  "language_info": {
   "codemirror_mode": {
    "name": "ipython",
    "version": 3
   },
   "file_extension": ".py",
   "mimetype": "text/x-python",
   "name": "python",
   "nbconvert_exporter": "python",
   "pygments_lexer": "ipython3",
   "version": "3.12.0"
  }
 },
 "nbformat": 4,
 "nbformat_minor": 2
}
